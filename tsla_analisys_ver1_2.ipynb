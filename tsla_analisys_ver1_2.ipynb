{
  "nbformat": 4,
  "nbformat_minor": 0,
  "metadata": {
    "colab": {
      "name": "tsla_analisys_ver1.2.ipynb",
      "provenance": [],
      "collapsed_sections": [],
      "authorship_tag": "ABX9TyMDR1NdDxqiYp5oCSYEa+KC",
      "include_colab_link": true
    },
    "kernelspec": {
      "name": "python3",
      "display_name": "Python 3"
    },
    "language_info": {
      "name": "python"
    }
  },
  "cells": [
    {
      "cell_type": "markdown",
      "metadata": {
        "id": "view-in-github",
        "colab_type": "text"
      },
      "source": [
        "<a href=\"https://colab.research.google.com/github/gilarndw/Data_Science_proj/blob/main/tsla_analisys_ver1_2.ipynb\" target=\"_parent\"><img src=\"https://colab.research.google.com/assets/colab-badge.svg\" alt=\"Open In Colab\"/></a>"
      ]
    },
    {
      "cell_type": "code",
      "metadata": {
        "colab": {
          "base_uri": "https://localhost:8080/"
        },
        "id": "v1zQQomT0KJK",
        "outputId": "799ce20f-50ee-47b6-a0b6-4f2088fb3c81"
      },
      "source": [
        "from google.colab import drive\n",
        "drive.mount('/content/drive')"
      ],
      "execution_count": 1,
      "outputs": [
        {
          "output_type": "stream",
          "name": "stdout",
          "text": [
            "Mounted at /content/drive\n"
          ]
        }
      ]
    },
    {
      "cell_type": "markdown",
      "metadata": {
        "id": "4i5sGpgt4SnN"
      },
      "source": [
        "\n",
        "\n",
        "> Import Library\n",
        "\n",
        "> Reading the data\n",
        "\n",
        "\n",
        "\n"
      ]
    },
    {
      "cell_type": "code",
      "metadata": {
        "colab": {
          "base_uri": "https://localhost:8080/",
          "height": 478
        },
        "id": "Q0TVSOtw26vg",
        "outputId": "4ddb2090-a20a-4ae2-af11-4758a4b45545"
      },
      "source": [
        "import pandas as pd\n",
        "import numpy as np\n",
        "import matplotlib.pyplot as plt\n",
        "import matplotlib.dates as plt_date\n",
        "import statsmodels.formula.api as smf\n",
        "from scipy import stats\n",
        "\n",
        "tsla_raw = pd.read_csv('/content/drive/My Drive/datasets/TSLA.csv')\n",
        "tsla_raw"
      ],
      "execution_count": 2,
      "outputs": [
        {
          "output_type": "stream",
          "name": "stderr",
          "text": [
            "/usr/local/lib/python3.7/dist-packages/statsmodels/tools/_testing.py:19: FutureWarning: pandas.util.testing is deprecated. Use the functions in the public API at pandas.testing instead.\n",
            "  import pandas.util.testing as tm\n"
          ]
        },
        {
          "output_type": "execute_result",
          "data": {
            "text/html": [
              "<div>\n",
              "<style scoped>\n",
              "    .dataframe tbody tr th:only-of-type {\n",
              "        vertical-align: middle;\n",
              "    }\n",
              "\n",
              "    .dataframe tbody tr th {\n",
              "        vertical-align: top;\n",
              "    }\n",
              "\n",
              "    .dataframe thead th {\n",
              "        text-align: right;\n",
              "    }\n",
              "</style>\n",
              "<table border=\"1\" class=\"dataframe\">\n",
              "  <thead>\n",
              "    <tr style=\"text-align: right;\">\n",
              "      <th></th>\n",
              "      <th>Date</th>\n",
              "      <th>Open</th>\n",
              "      <th>High</th>\n",
              "      <th>Low</th>\n",
              "      <th>Close</th>\n",
              "      <th>Adj Close</th>\n",
              "      <th>Volume</th>\n",
              "    </tr>\n",
              "  </thead>\n",
              "  <tbody>\n",
              "    <tr>\n",
              "      <th>0</th>\n",
              "      <td>2010-06-29</td>\n",
              "      <td>3.800000</td>\n",
              "      <td>5.000000</td>\n",
              "      <td>3.508000</td>\n",
              "      <td>4.778000</td>\n",
              "      <td>4.778000</td>\n",
              "      <td>93831500</td>\n",
              "    </tr>\n",
              "    <tr>\n",
              "      <th>1</th>\n",
              "      <td>2010-06-30</td>\n",
              "      <td>5.158000</td>\n",
              "      <td>6.084000</td>\n",
              "      <td>4.660000</td>\n",
              "      <td>4.766000</td>\n",
              "      <td>4.766000</td>\n",
              "      <td>85935500</td>\n",
              "    </tr>\n",
              "    <tr>\n",
              "      <th>2</th>\n",
              "      <td>2010-07-01</td>\n",
              "      <td>5.000000</td>\n",
              "      <td>5.184000</td>\n",
              "      <td>4.054000</td>\n",
              "      <td>4.392000</td>\n",
              "      <td>4.392000</td>\n",
              "      <td>41094000</td>\n",
              "    </tr>\n",
              "    <tr>\n",
              "      <th>3</th>\n",
              "      <td>2010-07-02</td>\n",
              "      <td>4.600000</td>\n",
              "      <td>4.620000</td>\n",
              "      <td>3.742000</td>\n",
              "      <td>3.840000</td>\n",
              "      <td>3.840000</td>\n",
              "      <td>25699000</td>\n",
              "    </tr>\n",
              "    <tr>\n",
              "      <th>4</th>\n",
              "      <td>2010-07-06</td>\n",
              "      <td>4.000000</td>\n",
              "      <td>4.000000</td>\n",
              "      <td>3.166000</td>\n",
              "      <td>3.222000</td>\n",
              "      <td>3.222000</td>\n",
              "      <td>34334500</td>\n",
              "    </tr>\n",
              "    <tr>\n",
              "      <th>...</th>\n",
              "      <td>...</td>\n",
              "      <td>...</td>\n",
              "      <td>...</td>\n",
              "      <td>...</td>\n",
              "      <td>...</td>\n",
              "      <td>...</td>\n",
              "      <td>...</td>\n",
              "    </tr>\n",
              "    <tr>\n",
              "      <th>2808</th>\n",
              "      <td>2021-08-24</td>\n",
              "      <td>710.679993</td>\n",
              "      <td>715.219971</td>\n",
              "      <td>702.640015</td>\n",
              "      <td>708.489990</td>\n",
              "      <td>708.489990</td>\n",
              "      <td>13083100</td>\n",
              "    </tr>\n",
              "    <tr>\n",
              "      <th>2809</th>\n",
              "      <td>2021-08-25</td>\n",
              "      <td>707.030029</td>\n",
              "      <td>716.969971</td>\n",
              "      <td>704.000000</td>\n",
              "      <td>711.200012</td>\n",
              "      <td>711.200012</td>\n",
              "      <td>12645600</td>\n",
              "    </tr>\n",
              "    <tr>\n",
              "      <th>2810</th>\n",
              "      <td>2021-08-26</td>\n",
              "      <td>708.309998</td>\n",
              "      <td>715.400024</td>\n",
              "      <td>697.619995</td>\n",
              "      <td>701.159973</td>\n",
              "      <td>701.159973</td>\n",
              "      <td>13214300</td>\n",
              "    </tr>\n",
              "    <tr>\n",
              "      <th>2811</th>\n",
              "      <td>2021-08-27</td>\n",
              "      <td>705.000000</td>\n",
              "      <td>715.000000</td>\n",
              "      <td>702.099976</td>\n",
              "      <td>711.919983</td>\n",
              "      <td>711.919983</td>\n",
              "      <td>13762100</td>\n",
              "    </tr>\n",
              "    <tr>\n",
              "      <th>2812</th>\n",
              "      <td>2021-08-30</td>\n",
              "      <td>714.719971</td>\n",
              "      <td>731.000000</td>\n",
              "      <td>712.729980</td>\n",
              "      <td>730.909973</td>\n",
              "      <td>730.909973</td>\n",
              "      <td>18502400</td>\n",
              "    </tr>\n",
              "  </tbody>\n",
              "</table>\n",
              "<p>2813 rows × 7 columns</p>\n",
              "</div>"
            ],
            "text/plain": [
              "            Date        Open        High  ...       Close   Adj Close    Volume\n",
              "0     2010-06-29    3.800000    5.000000  ...    4.778000    4.778000  93831500\n",
              "1     2010-06-30    5.158000    6.084000  ...    4.766000    4.766000  85935500\n",
              "2     2010-07-01    5.000000    5.184000  ...    4.392000    4.392000  41094000\n",
              "3     2010-07-02    4.600000    4.620000  ...    3.840000    3.840000  25699000\n",
              "4     2010-07-06    4.000000    4.000000  ...    3.222000    3.222000  34334500\n",
              "...          ...         ...         ...  ...         ...         ...       ...\n",
              "2808  2021-08-24  710.679993  715.219971  ...  708.489990  708.489990  13083100\n",
              "2809  2021-08-25  707.030029  716.969971  ...  711.200012  711.200012  12645600\n",
              "2810  2021-08-26  708.309998  715.400024  ...  701.159973  701.159973  13214300\n",
              "2811  2021-08-27  705.000000  715.000000  ...  711.919983  711.919983  13762100\n",
              "2812  2021-08-30  714.719971  731.000000  ...  730.909973  730.909973  18502400\n",
              "\n",
              "[2813 rows x 7 columns]"
            ]
          },
          "metadata": {},
          "execution_count": 2
        }
      ]
    },
    {
      "cell_type": "code",
      "metadata": {
        "colab": {
          "base_uri": "https://localhost:8080/"
        },
        "id": "EjtgGury48JB",
        "outputId": "ed07ca3c-95fc-439d-eaf6-205e2d6fdbf7"
      },
      "source": [
        "tsla_raw.isna().all() #check if there's an empty value or not\n",
        "#if yes bool = True or else bool = False"
      ],
      "execution_count": 3,
      "outputs": [
        {
          "output_type": "execute_result",
          "data": {
            "text/plain": [
              "Date         False\n",
              "Open         False\n",
              "High         False\n",
              "Low          False\n",
              "Close        False\n",
              "Adj Close    False\n",
              "Volume       False\n",
              "dtype: bool"
            ]
          },
          "metadata": {},
          "execution_count": 3
        }
      ]
    },
    {
      "cell_type": "code",
      "metadata": {
        "colab": {
          "base_uri": "https://localhost:8080/",
          "height": 300
        },
        "id": "BDfpyIzF6G_k",
        "outputId": "4e86c97e-759d-4961-ea3d-50e913de8f18"
      },
      "source": [
        "tsla_raw.describe()"
      ],
      "execution_count": 4,
      "outputs": [
        {
          "output_type": "execute_result",
          "data": {
            "text/html": [
              "<div>\n",
              "<style scoped>\n",
              "    .dataframe tbody tr th:only-of-type {\n",
              "        vertical-align: middle;\n",
              "    }\n",
              "\n",
              "    .dataframe tbody tr th {\n",
              "        vertical-align: top;\n",
              "    }\n",
              "\n",
              "    .dataframe thead th {\n",
              "        text-align: right;\n",
              "    }\n",
              "</style>\n",
              "<table border=\"1\" class=\"dataframe\">\n",
              "  <thead>\n",
              "    <tr style=\"text-align: right;\">\n",
              "      <th></th>\n",
              "      <th>Open</th>\n",
              "      <th>High</th>\n",
              "      <th>Low</th>\n",
              "      <th>Close</th>\n",
              "      <th>Adj Close</th>\n",
              "      <th>Volume</th>\n",
              "    </tr>\n",
              "  </thead>\n",
              "  <tbody>\n",
              "    <tr>\n",
              "      <th>count</th>\n",
              "      <td>2813.000000</td>\n",
              "      <td>2813.000000</td>\n",
              "      <td>2813.000000</td>\n",
              "      <td>2813.000000</td>\n",
              "      <td>2813.000000</td>\n",
              "      <td>2.813000e+03</td>\n",
              "    </tr>\n",
              "    <tr>\n",
              "      <th>mean</th>\n",
              "      <td>98.307804</td>\n",
              "      <td>100.386953</td>\n",
              "      <td>96.069256</td>\n",
              "      <td>98.349877</td>\n",
              "      <td>98.349877</td>\n",
              "      <td>3.160441e+07</td>\n",
              "    </tr>\n",
              "    <tr>\n",
              "      <th>std</th>\n",
              "      <td>176.108180</td>\n",
              "      <td>179.847860</td>\n",
              "      <td>171.937613</td>\n",
              "      <td>176.160413</td>\n",
              "      <td>176.160413</td>\n",
              "      <td>2.857384e+07</td>\n",
              "    </tr>\n",
              "    <tr>\n",
              "      <th>min</th>\n",
              "      <td>3.228000</td>\n",
              "      <td>3.326000</td>\n",
              "      <td>2.996000</td>\n",
              "      <td>3.160000</td>\n",
              "      <td>3.160000</td>\n",
              "      <td>5.925000e+05</td>\n",
              "    </tr>\n",
              "    <tr>\n",
              "      <th>25%</th>\n",
              "      <td>8.838000</td>\n",
              "      <td>9.228000</td>\n",
              "      <td>8.782000</td>\n",
              "      <td>9.090000</td>\n",
              "      <td>9.090000</td>\n",
              "      <td>1.232800e+07</td>\n",
              "    </tr>\n",
              "    <tr>\n",
              "      <th>50%</th>\n",
              "      <td>45.720001</td>\n",
              "      <td>46.307999</td>\n",
              "      <td>44.908001</td>\n",
              "      <td>45.664001</td>\n",
              "      <td>45.664001</td>\n",
              "      <td>2.513300e+07</td>\n",
              "    </tr>\n",
              "    <tr>\n",
              "      <th>75%</th>\n",
              "      <td>63.998001</td>\n",
              "      <td>65.334000</td>\n",
              "      <td>63.014000</td>\n",
              "      <td>64.269997</td>\n",
              "      <td>64.269997</td>\n",
              "      <td>4.050650e+07</td>\n",
              "    </tr>\n",
              "    <tr>\n",
              "      <th>max</th>\n",
              "      <td>891.380005</td>\n",
              "      <td>900.400024</td>\n",
              "      <td>871.599976</td>\n",
              "      <td>883.090027</td>\n",
              "      <td>883.090027</td>\n",
              "      <td>3.046940e+08</td>\n",
              "    </tr>\n",
              "  </tbody>\n",
              "</table>\n",
              "</div>"
            ],
            "text/plain": [
              "              Open         High  ...    Adj Close        Volume\n",
              "count  2813.000000  2813.000000  ...  2813.000000  2.813000e+03\n",
              "mean     98.307804   100.386953  ...    98.349877  3.160441e+07\n",
              "std     176.108180   179.847860  ...   176.160413  2.857384e+07\n",
              "min       3.228000     3.326000  ...     3.160000  5.925000e+05\n",
              "25%       8.838000     9.228000  ...     9.090000  1.232800e+07\n",
              "50%      45.720001    46.307999  ...    45.664001  2.513300e+07\n",
              "75%      63.998001    65.334000  ...    64.269997  4.050650e+07\n",
              "max     891.380005   900.400024  ...   883.090027  3.046940e+08\n",
              "\n",
              "[8 rows x 6 columns]"
            ]
          },
          "metadata": {},
          "execution_count": 4
        }
      ]
    },
    {
      "cell_type": "code",
      "metadata": {
        "colab": {
          "base_uri": "https://localhost:8080/",
          "height": 423
        },
        "id": "zEuyW3A76uwg",
        "outputId": "02bb4ffe-6f17-41ed-e321-2ad12bffdcf2"
      },
      "source": [
        " tsla_raw = tsla_raw.drop(columns = ['Adj Close'])\n",
        " tsla_raw"
      ],
      "execution_count": 5,
      "outputs": [
        {
          "output_type": "execute_result",
          "data": {
            "text/html": [
              "<div>\n",
              "<style scoped>\n",
              "    .dataframe tbody tr th:only-of-type {\n",
              "        vertical-align: middle;\n",
              "    }\n",
              "\n",
              "    .dataframe tbody tr th {\n",
              "        vertical-align: top;\n",
              "    }\n",
              "\n",
              "    .dataframe thead th {\n",
              "        text-align: right;\n",
              "    }\n",
              "</style>\n",
              "<table border=\"1\" class=\"dataframe\">\n",
              "  <thead>\n",
              "    <tr style=\"text-align: right;\">\n",
              "      <th></th>\n",
              "      <th>Date</th>\n",
              "      <th>Open</th>\n",
              "      <th>High</th>\n",
              "      <th>Low</th>\n",
              "      <th>Close</th>\n",
              "      <th>Volume</th>\n",
              "    </tr>\n",
              "  </thead>\n",
              "  <tbody>\n",
              "    <tr>\n",
              "      <th>0</th>\n",
              "      <td>2010-06-29</td>\n",
              "      <td>3.800000</td>\n",
              "      <td>5.000000</td>\n",
              "      <td>3.508000</td>\n",
              "      <td>4.778000</td>\n",
              "      <td>93831500</td>\n",
              "    </tr>\n",
              "    <tr>\n",
              "      <th>1</th>\n",
              "      <td>2010-06-30</td>\n",
              "      <td>5.158000</td>\n",
              "      <td>6.084000</td>\n",
              "      <td>4.660000</td>\n",
              "      <td>4.766000</td>\n",
              "      <td>85935500</td>\n",
              "    </tr>\n",
              "    <tr>\n",
              "      <th>2</th>\n",
              "      <td>2010-07-01</td>\n",
              "      <td>5.000000</td>\n",
              "      <td>5.184000</td>\n",
              "      <td>4.054000</td>\n",
              "      <td>4.392000</td>\n",
              "      <td>41094000</td>\n",
              "    </tr>\n",
              "    <tr>\n",
              "      <th>3</th>\n",
              "      <td>2010-07-02</td>\n",
              "      <td>4.600000</td>\n",
              "      <td>4.620000</td>\n",
              "      <td>3.742000</td>\n",
              "      <td>3.840000</td>\n",
              "      <td>25699000</td>\n",
              "    </tr>\n",
              "    <tr>\n",
              "      <th>4</th>\n",
              "      <td>2010-07-06</td>\n",
              "      <td>4.000000</td>\n",
              "      <td>4.000000</td>\n",
              "      <td>3.166000</td>\n",
              "      <td>3.222000</td>\n",
              "      <td>34334500</td>\n",
              "    </tr>\n",
              "    <tr>\n",
              "      <th>...</th>\n",
              "      <td>...</td>\n",
              "      <td>...</td>\n",
              "      <td>...</td>\n",
              "      <td>...</td>\n",
              "      <td>...</td>\n",
              "      <td>...</td>\n",
              "    </tr>\n",
              "    <tr>\n",
              "      <th>2808</th>\n",
              "      <td>2021-08-24</td>\n",
              "      <td>710.679993</td>\n",
              "      <td>715.219971</td>\n",
              "      <td>702.640015</td>\n",
              "      <td>708.489990</td>\n",
              "      <td>13083100</td>\n",
              "    </tr>\n",
              "    <tr>\n",
              "      <th>2809</th>\n",
              "      <td>2021-08-25</td>\n",
              "      <td>707.030029</td>\n",
              "      <td>716.969971</td>\n",
              "      <td>704.000000</td>\n",
              "      <td>711.200012</td>\n",
              "      <td>12645600</td>\n",
              "    </tr>\n",
              "    <tr>\n",
              "      <th>2810</th>\n",
              "      <td>2021-08-26</td>\n",
              "      <td>708.309998</td>\n",
              "      <td>715.400024</td>\n",
              "      <td>697.619995</td>\n",
              "      <td>701.159973</td>\n",
              "      <td>13214300</td>\n",
              "    </tr>\n",
              "    <tr>\n",
              "      <th>2811</th>\n",
              "      <td>2021-08-27</td>\n",
              "      <td>705.000000</td>\n",
              "      <td>715.000000</td>\n",
              "      <td>702.099976</td>\n",
              "      <td>711.919983</td>\n",
              "      <td>13762100</td>\n",
              "    </tr>\n",
              "    <tr>\n",
              "      <th>2812</th>\n",
              "      <td>2021-08-30</td>\n",
              "      <td>714.719971</td>\n",
              "      <td>731.000000</td>\n",
              "      <td>712.729980</td>\n",
              "      <td>730.909973</td>\n",
              "      <td>18502400</td>\n",
              "    </tr>\n",
              "  </tbody>\n",
              "</table>\n",
              "<p>2813 rows × 6 columns</p>\n",
              "</div>"
            ],
            "text/plain": [
              "            Date        Open        High         Low       Close    Volume\n",
              "0     2010-06-29    3.800000    5.000000    3.508000    4.778000  93831500\n",
              "1     2010-06-30    5.158000    6.084000    4.660000    4.766000  85935500\n",
              "2     2010-07-01    5.000000    5.184000    4.054000    4.392000  41094000\n",
              "3     2010-07-02    4.600000    4.620000    3.742000    3.840000  25699000\n",
              "4     2010-07-06    4.000000    4.000000    3.166000    3.222000  34334500\n",
              "...          ...         ...         ...         ...         ...       ...\n",
              "2808  2021-08-24  710.679993  715.219971  702.640015  708.489990  13083100\n",
              "2809  2021-08-25  707.030029  716.969971  704.000000  711.200012  12645600\n",
              "2810  2021-08-26  708.309998  715.400024  697.619995  701.159973  13214300\n",
              "2811  2021-08-27  705.000000  715.000000  702.099976  711.919983  13762100\n",
              "2812  2021-08-30  714.719971  731.000000  712.729980  730.909973  18502400\n",
              "\n",
              "[2813 rows x 6 columns]"
            ]
          },
          "metadata": {},
          "execution_count": 5
        }
      ]
    },
    {
      "cell_type": "code",
      "metadata": {
        "colab": {
          "base_uri": "https://localhost:8080/"
        },
        "id": "Jcs5_3tuBH7H",
        "outputId": "afeb3622-3f60-4668-f929-ebb3775553a7"
      },
      "source": [
        "tsla_raw.info()"
      ],
      "execution_count": 6,
      "outputs": [
        {
          "output_type": "stream",
          "name": "stdout",
          "text": [
            "<class 'pandas.core.frame.DataFrame'>\n",
            "RangeIndex: 2813 entries, 0 to 2812\n",
            "Data columns (total 6 columns):\n",
            " #   Column  Non-Null Count  Dtype  \n",
            "---  ------  --------------  -----  \n",
            " 0   Date    2813 non-null   object \n",
            " 1   Open    2813 non-null   float64\n",
            " 2   High    2813 non-null   float64\n",
            " 3   Low     2813 non-null   float64\n",
            " 4   Close   2813 non-null   float64\n",
            " 5   Volume  2813 non-null   int64  \n",
            "dtypes: float64(4), int64(1), object(1)\n",
            "memory usage: 132.0+ KB\n"
          ]
        }
      ]
    },
    {
      "cell_type": "code",
      "metadata": {
        "colab": {
          "base_uri": "https://localhost:8080/",
          "height": 350
        },
        "id": "d_3nD-uUBiBX",
        "outputId": "deeb0ecd-c78e-4f72-8c8a-61a5dd1626c9"
      },
      "source": [
        "col_date = tsla_raw['Date']\n",
        "col_close = tsla_raw['Close']\n",
        "\n",
        "fig, ax = plt.subplots(figsize = (15,5))\n",
        "ax.plot(col_date, col_close)\n",
        "ax.xaxis.set_major_locator(plt.MaxNLocator(10))\n",
        "ax.set_xlabel('Date')\n",
        "ax.set_ylabel('Price In USD')\n",
        "plt.title('Tesla Stock Price')\n",
        "plt.grid()\n",
        "plt.show()"
      ],
      "execution_count": 7,
      "outputs": [
        {
          "output_type": "display_data",
          "data": {
            "image/png": "[encoded data removed]",
            "text/plain": [
              "<Figure size 1080x360 with 1 Axes>"
            ]
          },
          "metadata": {
            "needs_background": "light"
          }
        }
      ]
    },
    {
      "cell_type": "code",
      "metadata": {
        "colab": {
          "base_uri": "https://localhost:8080/",
          "height": 350
        },
        "id": "msZb4_sdDTWU",
        "outputId": "f0e0d3fc-fe3d-4701-db92-06c6e9fccf9c"
      },
      "source": [
        "col_volume = tsla_raw['Volume']\n",
        "\n",
        "fig, ax = plt.subplots(figsize = (15,5))\n",
        "ax.plot(col_date, col_volume)\n",
        "ax.xaxis.set_major_locator(plt.MaxNLocator(10))\n",
        "ax.set_xlabel('Date')\n",
        "ax.set_ylabel('Volume')\n",
        "plt.title('Tesla Stock Volume Trend')\n",
        "plt.grid()\n",
        "plt.show()"
      ],
      "execution_count": 8,
      "outputs": [
        {
          "output_type": "display_data",
          "data": {
            "image/png": "[encoded data removed]",
            "text/plain": [
              "<Figure size 1080x360 with 1 Axes>"
            ]
          },
          "metadata": {
            "needs_background": "light"
          }
        }
      ]
    },
    {
      "cell_type": "markdown",
      "metadata": {
        "id": "m9anQzFRFwYE"
      },
      "source": [
        "Calculating the Market Cap"
      ]
    },
    {
      "cell_type": "code",
      "metadata": {
        "colab": {
          "base_uri": "https://localhost:8080/",
          "height": 423
        },
        "id": "MxuEN2EREfiK",
        "outputId": "d0a1a5b1-904f-40e9-e560-e7fc64679271"
      },
      "source": [
        "tsla_raw['Market_Cap'] = tsla_raw['Open'] * tsla_raw['Volume']\n",
        "tsla_raw"
      ],
      "execution_count": 9,
      "outputs": [
        {
          "output_type": "execute_result",
          "data": {
            "text/html": [
              "<div>\n",
              "<style scoped>\n",
              "    .dataframe tbody tr th:only-of-type {\n",
              "        vertical-align: middle;\n",
              "    }\n",
              "\n",
              "    .dataframe tbody tr th {\n",
              "        vertical-align: top;\n",
              "    }\n",
              "\n",
              "    .dataframe thead th {\n",
              "        text-align: right;\n",
              "    }\n",
              "</style>\n",
              "<table border=\"1\" class=\"dataframe\">\n",
              "  <thead>\n",
              "    <tr style=\"text-align: right;\">\n",
              "      <th></th>\n",
              "      <th>Date</th>\n",
              "      <th>Open</th>\n",
              "      <th>High</th>\n",
              "      <th>Low</th>\n",
              "      <th>Close</th>\n",
              "      <th>Volume</th>\n",
              "      <th>Market_Cap</th>\n",
              "    </tr>\n",
              "  </thead>\n",
              "  <tbody>\n",
              "    <tr>\n",
              "      <th>0</th>\n",
              "      <td>2010-06-29</td>\n",
              "      <td>3.800000</td>\n",
              "      <td>5.000000</td>\n",
              "      <td>3.508000</td>\n",
              "      <td>4.778000</td>\n",
              "      <td>93831500</td>\n",
              "      <td>3.565597e+08</td>\n",
              "    </tr>\n",
              "    <tr>\n",
              "      <th>1</th>\n",
              "      <td>2010-06-30</td>\n",
              "      <td>5.158000</td>\n",
              "      <td>6.084000</td>\n",
              "      <td>4.660000</td>\n",
              "      <td>4.766000</td>\n",
              "      <td>85935500</td>\n",
              "      <td>4.432553e+08</td>\n",
              "    </tr>\n",
              "    <tr>\n",
              "      <th>2</th>\n",
              "      <td>2010-07-01</td>\n",
              "      <td>5.000000</td>\n",
              "      <td>5.184000</td>\n",
              "      <td>4.054000</td>\n",
              "      <td>4.392000</td>\n",
              "      <td>41094000</td>\n",
              "      <td>2.054700e+08</td>\n",
              "    </tr>\n",
              "    <tr>\n",
              "      <th>3</th>\n",
              "      <td>2010-07-02</td>\n",
              "      <td>4.600000</td>\n",
              "      <td>4.620000</td>\n",
              "      <td>3.742000</td>\n",
              "      <td>3.840000</td>\n",
              "      <td>25699000</td>\n",
              "      <td>1.182154e+08</td>\n",
              "    </tr>\n",
              "    <tr>\n",
              "      <th>4</th>\n",
              "      <td>2010-07-06</td>\n",
              "      <td>4.000000</td>\n",
              "      <td>4.000000</td>\n",
              "      <td>3.166000</td>\n",
              "      <td>3.222000</td>\n",
              "      <td>34334500</td>\n",
              "      <td>1.373380e+08</td>\n",
              "    </tr>\n",
              "    <tr>\n",
              "      <th>...</th>\n",
              "      <td>...</td>\n",
              "      <td>...</td>\n",
              "      <td>...</td>\n",
              "      <td>...</td>\n",
              "      <td>...</td>\n",
              "      <td>...</td>\n",
              "      <td>...</td>\n",
              "    </tr>\n",
              "    <tr>\n",
              "      <th>2808</th>\n",
              "      <td>2021-08-24</td>\n",
              "      <td>710.679993</td>\n",
              "      <td>715.219971</td>\n",
              "      <td>702.640015</td>\n",
              "      <td>708.489990</td>\n",
              "      <td>13083100</td>\n",
              "      <td>9.297897e+09</td>\n",
              "    </tr>\n",
              "    <tr>\n",
              "      <th>2809</th>\n",
              "      <td>2021-08-25</td>\n",
              "      <td>707.030029</td>\n",
              "      <td>716.969971</td>\n",
              "      <td>704.000000</td>\n",
              "      <td>711.200012</td>\n",
              "      <td>12645600</td>\n",
              "      <td>8.940819e+09</td>\n",
              "    </tr>\n",
              "    <tr>\n",
              "      <th>2810</th>\n",
              "      <td>2021-08-26</td>\n",
              "      <td>708.309998</td>\n",
              "      <td>715.400024</td>\n",
              "      <td>697.619995</td>\n",
              "      <td>701.159973</td>\n",
              "      <td>13214300</td>\n",
              "      <td>9.359821e+09</td>\n",
              "    </tr>\n",
              "    <tr>\n",
              "      <th>2811</th>\n",
              "      <td>2021-08-27</td>\n",
              "      <td>705.000000</td>\n",
              "      <td>715.000000</td>\n",
              "      <td>702.099976</td>\n",
              "      <td>711.919983</td>\n",
              "      <td>13762100</td>\n",
              "      <td>9.702280e+09</td>\n",
              "    </tr>\n",
              "    <tr>\n",
              "      <th>2812</th>\n",
              "      <td>2021-08-30</td>\n",
              "      <td>714.719971</td>\n",
              "      <td>731.000000</td>\n",
              "      <td>712.729980</td>\n",
              "      <td>730.909973</td>\n",
              "      <td>18502400</td>\n",
              "      <td>1.322403e+10</td>\n",
              "    </tr>\n",
              "  </tbody>\n",
              "</table>\n",
              "<p>2813 rows × 7 columns</p>\n",
              "</div>"
            ],
            "text/plain": [
              "            Date        Open        High  ...       Close    Volume    Market_Cap\n",
              "0     2010-06-29    3.800000    5.000000  ...    4.778000  93831500  3.565597e+08\n",
              "1     2010-06-30    5.158000    6.084000  ...    4.766000  85935500  4.432553e+08\n",
              "2     2010-07-01    5.000000    5.184000  ...    4.392000  41094000  2.054700e+08\n",
              "3     2010-07-02    4.600000    4.620000  ...    3.840000  25699000  1.182154e+08\n",
              "4     2010-07-06    4.000000    4.000000  ...    3.222000  34334500  1.373380e+08\n",
              "...          ...         ...         ...  ...         ...       ...           ...\n",
              "2808  2021-08-24  710.679993  715.219971  ...  708.489990  13083100  9.297897e+09\n",
              "2809  2021-08-25  707.030029  716.969971  ...  711.200012  12645600  8.940819e+09\n",
              "2810  2021-08-26  708.309998  715.400024  ...  701.159973  13214300  9.359821e+09\n",
              "2811  2021-08-27  705.000000  715.000000  ...  711.919983  13762100  9.702280e+09\n",
              "2812  2021-08-30  714.719971  731.000000  ...  730.909973  18502400  1.322403e+10\n",
              "\n",
              "[2813 rows x 7 columns]"
            ]
          },
          "metadata": {},
          "execution_count": 9
        }
      ]
    },
    {
      "cell_type": "code",
      "metadata": {
        "colab": {
          "base_uri": "https://localhost:8080/",
          "height": 350
        },
        "id": "ZC8mw6uWHPLE",
        "outputId": "cdb5d8da-1b30-4ea2-f7f7-de2492d47380"
      },
      "source": [
        "col_markcap = tsla_raw['Market_Cap']\n",
        "\n",
        "fig, ax = plt.subplots(figsize = (15,5))\n",
        "ax.plot(col_date, col_markcap)\n",
        "ax.xaxis.set_major_locator(plt.MaxNLocator(10))\n",
        "ax.set_xlabel('Date')\n",
        "ax.set_ylabel('Market Cap')\n",
        "plt.title('Tesla Capitalization')\n",
        "plt.grid()\n",
        "plt.show()"
      ],
      "execution_count": 10,
      "outputs": [
        {
          "output_type": "display_data",
          "data": {
            "image/png": "[encoded data removed]",
            "text/plain": [
              "<Figure size 1080x360 with 1 Axes>"
            ]
          },
          "metadata": {
            "needs_background": "light"
          }
        }
      ]
    },
    {
      "cell_type": "code",
      "metadata": {
        "colab": {
          "base_uri": "https://localhost:8080/"
        },
        "id": "ft1Y9E8wHdw2",
        "outputId": "5e60aa6b-bebe-49a7-b120-394c73037466"
      },
      "source": [
        "tsla_raw.iloc[col_markcap.argmax()]"
      ],
      "execution_count": 11,
      "outputs": [
        {
          "output_type": "execute_result",
          "data": {
            "text/plain": [
              "Date          2020-12-18\n",
              "Open               668.9\n",
              "High                 695\n",
              "Low               628.54\n",
              "Close                695\n",
              "Volume         222126200\n",
              "Market_Cap    1.4858e+11\n",
              "Name: 2638, dtype: object"
            ]
          },
          "metadata": {},
          "execution_count": 11
        }
      ]
    },
    {
      "cell_type": "markdown",
      "metadata": {
        "id": "VC41VoMXXEht"
      },
      "source": [
        "Tesla gain maximum Market Capitalization in December 18, 2020"
      ]
    },
    {
      "cell_type": "code",
      "metadata": {
        "colab": {
          "base_uri": "https://localhost:8080/",
          "height": 350
        },
        "id": "q4mY40GwXUjd",
        "outputId": "a3168e59-1ac2-4149-f2b1-9a7bfaa69f84"
      },
      "source": [
        "tsla_chart = tsla_raw[col_date > '2020-01-10']\n",
        "\n",
        "col_newdate = tsla_chart['Date']\n",
        "col_newmark = tsla_chart['Market_Cap']\n",
        "\n",
        "fig, ax = plt.subplots(figsize = (15,5))\n",
        "ax.plot(col_newdate, col_newmark)\n",
        "ax.xaxis.set_major_locator(plt.MaxNLocator(10))\n",
        "ax.set_xlabel('Date')\n",
        "ax.set_ylabel('Market Cap')\n",
        "plt.title('Tesla Market Cap (after January 10, 2020)')\n",
        "plt.grid()\n",
        "plt.show()"
      ],
      "execution_count": 12,
      "outputs": [
        {
          "output_type": "display_data",
          "data": {
            "image/png": "[encoded data removed]",
            "text/plain": [
              "<Figure size 1080x360 with 1 Axes>"
            ]
          },
          "metadata": {
            "needs_background": "light"
          }
        }
      ]
    },
    {
      "cell_type": "code",
      "metadata": {
        "colab": {
          "base_uri": "https://localhost:8080/"
        },
        "id": "MjTAR7TzZd6p",
        "outputId": "cddac7ba-3e36-41e2-b4e3-d4f0bb6756ce"
      },
      "source": [
        "#Now we're going to see the relationship between Market Cap + Volume and Close\n",
        "#We'll see if Market Cap + Volume can predict Close price or not\n",
        "\n",
        "model = smf.ols('Close ~ Market_Cap + Volume', data = tsla_raw)\n",
        "results = model.fit()\n",
        "print(results.summary())"
      ],
      "execution_count": 13,
      "outputs": [
        {
          "output_type": "stream",
          "name": "stdout",
          "text": [
            "                            OLS Regression Results                            \n",
            "==============================================================================\n",
            "Dep. Variable:                  Close   R-squared:                       0.676\n",
            "Model:                            OLS   Adj. R-squared:                  0.676\n",
            "Method:                 Least Squares   F-statistic:                     2934.\n",
            "Date:                Mon, 13 Sep 2021   Prob (F-statistic):               0.00\n",
            "Time:                        01:33:47   Log-Likelihood:                -16952.\n",
            "No. Observations:                2813   AIC:                         3.391e+04\n",
            "Df Residuals:                    2810   BIC:                         3.393e+04\n",
            "Df Model:                           2                                         \n",
            "Covariance Type:            nonrobust                                         \n",
            "==============================================================================\n",
            "                 coef    std err          t      P>|t|      [0.025      0.975]\n",
            "------------------------------------------------------------------------------\n",
            "Intercept     77.2798      2.825     27.356      0.000      71.741      82.819\n",
            "Market_Cap  2.015e-08   2.69e-10     74.831      0.000    1.96e-08    2.07e-08\n",
            "Volume     -1.875e-06   7.71e-08    -24.324      0.000   -2.03e-06   -1.72e-06\n",
            "==============================================================================\n",
            "Omnibus:                     1392.272   Durbin-Watson:                   0.461\n",
            "Prob(Omnibus):                  0.000   Jarque-Bera (JB):           416046.102\n",
            "Skew:                          -1.114   Prob(JB):                         0.00\n",
            "Kurtosis:                      62.537   Cond. No.                     1.36e+10\n",
            "==============================================================================\n",
            "\n",
            "Warnings:\n",
            "[1] Standard Errors assume that the covariance matrix of the errors is correctly specified.\n",
            "[2] The condition number is large, 1.36e+10. This might indicate that there are\n",
            "strong multicollinearity or other numerical problems.\n"
          ]
        }
      ]
    },
    {
      "cell_type": "markdown",
      "metadata": {
        "id": "4SrcT_HqsTN3"
      },
      "source": [
        "From the model above we can conclude that :\n",
        "\n",
        "1. P-value of Market Cap, Volume and Intercept = 0\n",
        "2. P-value is statistically significant for all of the variables, as it is less than 0.05\n",
        "\n",
        "We can agree that Market Cap and Volume are related to Close price\n",
        "\n",
        "\n",
        "\n"
      ]
    },
    {
      "cell_type": "code",
      "metadata": {
        "colab": {
          "base_uri": "https://localhost:8080/"
        },
        "id": "a1DpDXHrjMeb",
        "outputId": "517e9da4-bd96-4926-e519-0fc497a6f65e"
      },
      "source": [
        "def Predict_Close(Market_Cap,Volume):\n",
        " return(2.015e-08 * Market_Cap - 3.852e-06 * Volume + 77.2798)\n",
        "\n",
        "print(Predict_Close(9.297897e+09,13083100)) #Market Cap and Volume on 2021-08-24\n",
        "print(Predict_Close(1.373380e+08,34334500)) #Market Cap and Volume on 2010-07-06\n",
        "print(Predict_Close(1.322403e+10,18502400)) #Market Cap and Volume on 2021-08-30"
      ],
      "execution_count": 14,
      "outputs": [
        {
          "output_type": "stream",
          "name": "stdout",
          "text": [
            "214.23632334999996\n",
            "-52.2093333\n",
            "272.4727597\n"
          ]
        }
      ]
    },
    {
      "cell_type": "markdown",
      "metadata": {
        "id": "Onf_Lw0Ct7hb"
      },
      "source": [
        "However if we test to calculate the coef numbers with our data,\n",
        "\n",
        "the results are inaccurate.\n",
        "\n",
        "\n",
        "\n",
        "> In conclusion : We cannot predict Close price with Market Cap and Volume\n",
        "\n"
      ]
    },
    {
      "cell_type": "code",
      "metadata": {
        "colab": {
          "base_uri": "https://localhost:8080/",
          "height": 423
        },
        "id": "5rd_mUk6mjMP",
        "outputId": "473ae7bb-3133-4faf-f1c5-c32d5eb864d5"
      },
      "source": [
        "#Now we going to find the Volatility of Tesla Stock\n",
        "tsla_raw['Vol'] = tsla_raw['Close']/tsla_raw['Close'].shift(1) - 1\n",
        "tsla_raw"
      ],
      "execution_count": 15,
      "outputs": [
        {
          "output_type": "execute_result",
          "data": {
            "text/html": [
              "<div>\n",
              "<style scoped>\n",
              "    .dataframe tbody tr th:only-of-type {\n",
              "        vertical-align: middle;\n",
              "    }\n",
              "\n",
              "    .dataframe tbody tr th {\n",
              "        vertical-align: top;\n",
              "    }\n",
              "\n",
              "    .dataframe thead th {\n",
              "        text-align: right;\n",
              "    }\n",
              "</style>\n",
              "<table border=\"1\" class=\"dataframe\">\n",
              "  <thead>\n",
              "    <tr style=\"text-align: right;\">\n",
              "      <th></th>\n",
              "      <th>Date</th>\n",
              "      <th>Open</th>\n",
              "      <th>High</th>\n",
              "      <th>Low</th>\n",
              "      <th>Close</th>\n",
              "      <th>Volume</th>\n",
              "      <th>Market_Cap</th>\n",
              "      <th>Vol</th>\n",
              "    </tr>\n",
              "  </thead>\n",
              "  <tbody>\n",
              "    <tr>\n",
              "      <th>0</th>\n",
              "      <td>2010-06-29</td>\n",
              "      <td>3.800000</td>\n",
              "      <td>5.000000</td>\n",
              "      <td>3.508000</td>\n",
              "      <td>4.778000</td>\n",
              "      <td>93831500</td>\n",
              "      <td>3.565597e+08</td>\n",
              "      <td>NaN</td>\n",
              "    </tr>\n",
              "    <tr>\n",
              "      <th>1</th>\n",
              "      <td>2010-06-30</td>\n",
              "      <td>5.158000</td>\n",
              "      <td>6.084000</td>\n",
              "      <td>4.660000</td>\n",
              "      <td>4.766000</td>\n",
              "      <td>85935500</td>\n",
              "      <td>4.432553e+08</td>\n",
              "      <td>-0.002512</td>\n",
              "    </tr>\n",
              "    <tr>\n",
              "      <th>2</th>\n",
              "      <td>2010-07-01</td>\n",
              "      <td>5.000000</td>\n",
              "      <td>5.184000</td>\n",
              "      <td>4.054000</td>\n",
              "      <td>4.392000</td>\n",
              "      <td>41094000</td>\n",
              "      <td>2.054700e+08</td>\n",
              "      <td>-0.078473</td>\n",
              "    </tr>\n",
              "    <tr>\n",
              "      <th>3</th>\n",
              "      <td>2010-07-02</td>\n",
              "      <td>4.600000</td>\n",
              "      <td>4.620000</td>\n",
              "      <td>3.742000</td>\n",
              "      <td>3.840000</td>\n",
              "      <td>25699000</td>\n",
              "      <td>1.182154e+08</td>\n",
              "      <td>-0.125683</td>\n",
              "    </tr>\n",
              "    <tr>\n",
              "      <th>4</th>\n",
              "      <td>2010-07-06</td>\n",
              "      <td>4.000000</td>\n",
              "      <td>4.000000</td>\n",
              "      <td>3.166000</td>\n",
              "      <td>3.222000</td>\n",
              "      <td>34334500</td>\n",
              "      <td>1.373380e+08</td>\n",
              "      <td>-0.160937</td>\n",
              "    </tr>\n",
              "    <tr>\n",
              "      <th>...</th>\n",
              "      <td>...</td>\n",
              "      <td>...</td>\n",
              "      <td>...</td>\n",
              "      <td>...</td>\n",
              "      <td>...</td>\n",
              "      <td>...</td>\n",
              "      <td>...</td>\n",
              "      <td>...</td>\n",
              "    </tr>\n",
              "    <tr>\n",
              "      <th>2808</th>\n",
              "      <td>2021-08-24</td>\n",
              "      <td>710.679993</td>\n",
              "      <td>715.219971</td>\n",
              "      <td>702.640015</td>\n",
              "      <td>708.489990</td>\n",
              "      <td>13083100</td>\n",
              "      <td>9.297897e+09</td>\n",
              "      <td>0.003101</td>\n",
              "    </tr>\n",
              "    <tr>\n",
              "      <th>2809</th>\n",
              "      <td>2021-08-25</td>\n",
              "      <td>707.030029</td>\n",
              "      <td>716.969971</td>\n",
              "      <td>704.000000</td>\n",
              "      <td>711.200012</td>\n",
              "      <td>12645600</td>\n",
              "      <td>8.940819e+09</td>\n",
              "      <td>0.003825</td>\n",
              "    </tr>\n",
              "    <tr>\n",
              "      <th>2810</th>\n",
              "      <td>2021-08-26</td>\n",
              "      <td>708.309998</td>\n",
              "      <td>715.400024</td>\n",
              "      <td>697.619995</td>\n",
              "      <td>701.159973</td>\n",
              "      <td>13214300</td>\n",
              "      <td>9.359821e+09</td>\n",
              "      <td>-0.014117</td>\n",
              "    </tr>\n",
              "    <tr>\n",
              "      <th>2811</th>\n",
              "      <td>2021-08-27</td>\n",
              "      <td>705.000000</td>\n",
              "      <td>715.000000</td>\n",
              "      <td>702.099976</td>\n",
              "      <td>711.919983</td>\n",
              "      <td>13762100</td>\n",
              "      <td>9.702280e+09</td>\n",
              "      <td>0.015346</td>\n",
              "    </tr>\n",
              "    <tr>\n",
              "      <th>2812</th>\n",
              "      <td>2021-08-30</td>\n",
              "      <td>714.719971</td>\n",
              "      <td>731.000000</td>\n",
              "      <td>712.729980</td>\n",
              "      <td>730.909973</td>\n",
              "      <td>18502400</td>\n",
              "      <td>1.322403e+10</td>\n",
              "      <td>0.026674</td>\n",
              "    </tr>\n",
              "  </tbody>\n",
              "</table>\n",
              "<p>2813 rows × 8 columns</p>\n",
              "</div>"
            ],
            "text/plain": [
              "            Date        Open        High  ...    Volume    Market_Cap       Vol\n",
              "0     2010-06-29    3.800000    5.000000  ...  93831500  3.565597e+08       NaN\n",
              "1     2010-06-30    5.158000    6.084000  ...  85935500  4.432553e+08 -0.002512\n",
              "2     2010-07-01    5.000000    5.184000  ...  41094000  2.054700e+08 -0.078473\n",
              "3     2010-07-02    4.600000    4.620000  ...  25699000  1.182154e+08 -0.125683\n",
              "4     2010-07-06    4.000000    4.000000  ...  34334500  1.373380e+08 -0.160937\n",
              "...          ...         ...         ...  ...       ...           ...       ...\n",
              "2808  2021-08-24  710.679993  715.219971  ...  13083100  9.297897e+09  0.003101\n",
              "2809  2021-08-25  707.030029  716.969971  ...  12645600  8.940819e+09  0.003825\n",
              "2810  2021-08-26  708.309998  715.400024  ...  13214300  9.359821e+09 -0.014117\n",
              "2811  2021-08-27  705.000000  715.000000  ...  13762100  9.702280e+09  0.015346\n",
              "2812  2021-08-30  714.719971  731.000000  ...  18502400  1.322403e+10  0.026674\n",
              "\n",
              "[2813 rows x 8 columns]"
            ]
          },
          "metadata": {},
          "execution_count": 15
        }
      ]
    },
    {
      "cell_type": "code",
      "metadata": {
        "colab": {
          "base_uri": "https://localhost:8080/",
          "height": 350
        },
        "id": "z2DNxOYp3Kgz",
        "outputId": "b024b0aa-730d-4214-f948-692326b288e2"
      },
      "source": [
        "col_vol = tsla_raw['Vol']\n",
        "\n",
        "fig, ax = plt.subplots(figsize = (15,5))\n",
        "ax.plot(col_date, col_vol)\n",
        "ax.xaxis.set_major_locator(plt.MaxNLocator(10))\n",
        "ax.set_xlabel('Date')\n",
        "ax.set_ylabel('Percentage')\n",
        "plt.title('Tesla Stock Volatility')\n",
        "plt.grid()\n",
        "plt.show()"
      ],
      "execution_count": 16,
      "outputs": [
        {
          "output_type": "display_data",
          "data": {
            "image/png": "[encoded data removed]",
            "text/plain": [
              "<Figure size 1080x360 with 1 Axes>"
            ]
          },
          "metadata": {
            "needs_background": "light"
          }
        }
      ]
    },
    {
      "cell_type": "code",
      "metadata": {
        "colab": {
          "base_uri": "https://localhost:8080/"
        },
        "id": "aQJmNBHD3tCK",
        "outputId": "9896412f-513a-4bc6-8410-f8dabd07f9f5"
      },
      "source": [
        "tsla_raw.iloc[col_vol.argmax()] "
      ],
      "execution_count": 17,
      "outputs": [
        {
          "output_type": "execute_result",
          "data": {
            "text/plain": [
              "Date           2013-05-09\n",
              "Open               14.024\n",
              "High               15.154\n",
              "Low                12.738\n",
              "Close               13.88\n",
              "Volume          143025000\n",
              "Market_Cap    2.00578e+09\n",
              "Vol              0.243951\n",
              "Name: 720, dtype: object"
            ]
          },
          "metadata": {},
          "execution_count": 17
        }
      ]
    },
    {
      "cell_type": "code",
      "metadata": {
        "colab": {
          "base_uri": "https://localhost:8080/"
        },
        "id": "zbOf5jlB5nYM",
        "outputId": "957e6c83-7eb5-448a-a588-04406f0c833a"
      },
      "source": [
        "tsla_raw.iloc[col_vol.argmin()]"
      ],
      "execution_count": 18,
      "outputs": [
        {
          "output_type": "execute_result",
          "data": {
            "text/plain": [
              "Date           2020-09-08\n",
              "Open                  356\n",
              "High               368.74\n",
              "Low                329.88\n",
              "Close              330.21\n",
              "Volume          115465700\n",
              "Market_Cap    4.11058e+10\n",
              "Vol             -0.210628\n",
              "Name: 2566, dtype: object"
            ]
          },
          "metadata": {},
          "execution_count": 18
        }
      ]
    },
    {
      "cell_type": "code",
      "metadata": {
        "colab": {
          "base_uri": "https://localhost:8080/"
        },
        "id": "pUoX2IWR6Aq8",
        "outputId": "76038d1a-2267-43d7-b1ed-0eba5980a5c3"
      },
      "source": [
        "col_vol.describe()"
      ],
      "execution_count": 19,
      "outputs": [
        {
          "output_type": "execute_result",
          "data": {
            "text/plain": [
              "count    2812.000000\n",
              "mean        0.002414\n",
              "std         0.035448\n",
              "min        -0.210628\n",
              "25%        -0.014935\n",
              "50%         0.001139\n",
              "75%         0.019187\n",
              "max         0.243951\n",
              "Name: Vol, dtype: float64"
            ]
          },
          "metadata": {},
          "execution_count": 19
        }
      ]
    }
  ]
}